{
  "nbformat": 4,
  "nbformat_minor": 0,
  "metadata": {
    "accelerator": "GPU",
    "colab": {
      "name": "C3_W3_Assignment_Solution.ipynb",
      "provenance": [],
      "collapsed_sections": [],
      "toc_visible": true
    },
    "kernelspec": {
      "name": "python3",
      "display_name": "Python 3"
    },
    "language_info": {
      "name": "python"
    }
  },
  "cells": [
    {
      "cell_type": "code",
      "metadata": {
        "id": "zX4Kg8DUTKWO"
      },
      "source": [
        "#@title Licensed under the Apache License, Version 2.0 (the \"License\");\n",
        "# you may not use this file except in compliance with the License.\n",
        "# You may obtain a copy of the License at\n",
        "#\n",
        "# https://www.apache.org/licenses/LICENSE-2.0\n",
        "#\n",
        "# Unless required by applicable law or agreed to in writing, software\n",
        "# distributed under the License is distributed on an \"AS IS\" BASIS,\n",
        "# WITHOUT WARRANTIES OR CONDITIONS OF ANY KIND, either express or implied.\n",
        "# See the License for the specific language governing permissions and\n",
        "# limitations under the License."
      ],
      "execution_count": null,
      "outputs": []
    },
    {
      "cell_type": "markdown",
      "metadata": {
        "id": "-v8aHcpUdtKN"
      },
      "source": [
        "**Note:** This notebook can run using TensorFlow 2.5.0"
      ]
    },
    {
      "cell_type": "code",
      "metadata": {
        "id": "FtL554lDdtKO"
      },
      "source": [
        "#!pip install tensorflow==2.5.0"
      ],
      "execution_count": null,
      "outputs": []
    },
    {
      "cell_type": "code",
      "metadata": {
        "id": "hmA6EzkQJ5jt"
      },
      "source": [
        "import json\n",
        "import tensorflow as tf\n",
        "import csv\n",
        "import random\n",
        "import numpy as np\n",
        "\n",
        "from tensorflow.keras.preprocessing.text import Tokenizer\n",
        "from tensorflow.keras.preprocessing.sequence import pad_sequences\n",
        "from tensorflow.keras.utils import to_categorical\n",
        "from tensorflow.keras import regularizers\n",
        "\n",
        "\n",
        "embedding_dim = 100\n",
        "max_length = 16\n",
        "trunc_type='post'\n",
        "padding_type='post'\n",
        "oov_tok = \"<OOV>\"\n",
        "training_size=160000\n",
        "test_portion=.1\n",
        "\n",
        "corpus = []\n"
      ],
      "execution_count": 1,
      "outputs": []
    },
    {
      "cell_type": "code",
      "metadata": {
        "id": "bM0l_dORKqE0",
        "outputId": "5813427e-a687-49b4-f288-0e3318661799",
        "colab": {
          "base_uri": "https://localhost:8080/"
        }
      },
      "source": [
        "# Note that I cleaned the Stanford dataset to remove LATIN1 encoding to make it easier for Python CSV reader\n",
        "# You can do that yourself with:\n",
        "# iconv -f LATIN1 -t UTF8 training.1600000.processed.noemoticon.csv -o training_cleaned.csv\n",
        "\n",
        "# training_cleaned.csv\n",
        "!gdown --id 1wd8KaeCSHxt-nEpMeuHFSNWrDp8joUXJ\n",
        "\n",
        "num_sentences = 0\n",
        "\n",
        "with open(\"./training_cleaned.csv\") as csvfile:\n",
        "    reader = csv.reader(csvfile, delimiter=',')\n",
        "    for row in reader:\n",
        "        list_item=[]\n",
        "        \n",
        "        ### START CODE HERE\n",
        "        list_item.append(row[5])\n",
        "        this_label=row[0]\n",
        "        if this_label=='0':\n",
        "            list_item.append(0)\n",
        "        else:\n",
        "            list_item.append(1)\n",
        "        ### END CODE HERE\n",
        "        \n",
        "        num_sentences = num_sentences + 1\n",
        "        corpus.append(list_item)\n"
      ],
      "execution_count": 2,
      "outputs": [
        {
          "output_type": "stream",
          "name": "stdout",
          "text": [
            "Downloading...\n",
            "From: https://drive.google.com/uc?id=1wd8KaeCSHxt-nEpMeuHFSNWrDp8joUXJ\n",
            "To: /content/training_cleaned.csv\n",
            "100% 239M/239M [00:02<00:00, 83.0MB/s]\n"
          ]
        }
      ]
    },
    {
      "cell_type": "code",
      "metadata": {
        "id": "3kxblBUjEUX-",
        "outputId": "6db371a8-7047-4fb7-83c6-9627fbaceb27",
        "colab": {
          "base_uri": "https://localhost:8080/"
        }
      },
      "source": [
        "print(num_sentences)\n",
        "print(len(corpus))\n",
        "print(corpus[1])\n",
        "\n",
        "# Expected Output:\n",
        "# 1600000\n",
        "# 1600000\n",
        "# [\"is upset that he can't update his Facebook by texting it... and might cry as a result  School today also. Blah!\", 0]"
      ],
      "execution_count": 3,
      "outputs": [
        {
          "output_type": "stream",
          "name": "stdout",
          "text": [
            "1600000\n",
            "1600000\n",
            "[\"is upset that he can't update his Facebook by texting it... and might cry as a result  School today also. Blah!\", 0]\n"
          ]
        }
      ]
    },
    {
      "cell_type": "code",
      "metadata": {
        "id": "ohOGz24lsNAD"
      },
      "source": [
        "sentences=[]\n",
        "labels=[]\n",
        "random.shuffle(corpus)\n",
        "for x in range(training_size):\n",
        "    sentences.append(corpus[x][0])# YOUR CODE HERE)\n",
        "    labels.append(corpus[x][1])# YOUR CODE HERE)\n",
        "\n",
        "\n",
        "tokenizer = Tokenizer()\n",
        "tokenizer.fit_on_texts(sentences)# YOUR CODE HERE)\n",
        "\n",
        "word_index = tokenizer.word_index\n",
        "vocab_size=len(word_index)# YOUR CODE HERE)\n",
        "\n",
        "sequences = tokenizer.texts_to_sequences(sentences)# YOUR CODE HERE)\n",
        "padded = pad_sequences(sequences, maxlen=max_length, padding=padding_type, truncating=trunc_type)# YOUR CODE HERE)\n",
        "\n",
        "split = int(test_portion * training_size)\n",
        "\n",
        "test_sequences = padded[0:split]# YOUR CODE HERE)\n",
        "training_sequences = padded[split:training_size]# YOUR CODE HERE)\n",
        "test_labels = labels[0:split]# YOUR CODE HERE)\n",
        "training_labels = labels[split:training_size]# YOUR CODE HERE)"
      ],
      "execution_count": 4,
      "outputs": []
    },
    {
      "cell_type": "code",
      "metadata": {
        "id": "gIrtRem1En3N",
        "outputId": "50a0e4a7-37bd-4c70-dcda-bbc7bb1830e0",
        "colab": {
          "base_uri": "https://localhost:8080/"
        }
      },
      "source": [
        "print(vocab_size)\n",
        "print(word_index['i'])\n",
        "# Expected Output\n",
        "# 138856\n",
        "# 1"
      ],
      "execution_count": 5,
      "outputs": [
        {
          "output_type": "stream",
          "name": "stdout",
          "text": [
            "138478\n",
            "1\n"
          ]
        }
      ]
    },
    {
      "cell_type": "code",
      "metadata": {
        "id": "C1zdgJkusRh0",
        "outputId": "5645dc80-fb14-48c2-9fd5-05e1d87261a6",
        "colab": {
          "base_uri": "https://localhost:8080/"
        }
      },
      "source": [
        "# Note this is the 100 dimension version of GloVe from Stanford\n",
        "\n",
        "# glove.6B.100d.txt\n",
        "!gdown --id 1W5vZy2etitAblLdFn8_DxnsQKzfFJ98g\n",
        "\n",
        "embeddings_index = {};\n",
        "with open('./glove.6B.100d.txt') as f:\n",
        "    for line in f:\n",
        "        values = line.split();\n",
        "        word = values[0];\n",
        "        coefs = np.asarray(values[1:], dtype='float32');\n",
        "        embeddings_index[word] = coefs;\n",
        "\n",
        "embeddings_matrix = np.zeros((vocab_size+1, embedding_dim));\n",
        "for word, i in word_index.items():\n",
        "    embedding_vector = embeddings_index.get(word);\n",
        "    if embedding_vector is not None:\n",
        "        embeddings_matrix[i] = embedding_vector;"
      ],
      "execution_count": 6,
      "outputs": [
        {
          "output_type": "stream",
          "name": "stdout",
          "text": [
            "Downloading...\n",
            "From: https://drive.google.com/uc?id=1W5vZy2etitAblLdFn8_DxnsQKzfFJ98g\n",
            "To: /content/glove.6B.100d.txt\n",
            "100% 347M/347M [00:01<00:00, 196MB/s]\n"
          ]
        }
      ]
    },
    {
      "cell_type": "code",
      "metadata": {
        "id": "71NLk_lpFLNt",
        "outputId": "cc416f34-ad16-4dc3-fae1-d54f7fbdae71",
        "colab": {
          "base_uri": "https://localhost:8080/"
        }
      },
      "source": [
        "print(len(embeddings_matrix))\n",
        "# Expected Output\n",
        "# 138857"
      ],
      "execution_count": 7,
      "outputs": [
        {
          "output_type": "stream",
          "name": "stdout",
          "text": [
            "138479\n"
          ]
        }
      ]
    },
    {
      "cell_type": "code",
      "metadata": {
        "id": "iKKvbuEBOGFz",
        "outputId": "736f6d87-88b3-43a7-d0eb-cf51c2b5ecbb",
        "colab": {
          "base_uri": "https://localhost:8080/"
        }
      },
      "source": [
        "model = tf.keras.Sequential([\n",
        "    # YOUR CODE HERE\n",
        "    tf.keras.layers.Embedding(vocab_size+1, embedding_dim, input_length=max_length, weights=[embeddings_matrix], trainable=False),\n",
        "    tf.keras.layers.Dropout(0.2),\n",
        "    tf.keras.layers.Conv1D(64, 5, activation='relu'),\n",
        "    tf.keras.layers.MaxPooling1D(pool_size=4),\n",
        "    tf.keras.layers.LSTM(64),\n",
        "    tf.keras.layers.Dense(1, activation='sigmoid')\n",
        "])\n",
        "model.compile(loss='binary_crossentropy',optimizer='adam',metrics=['accuracy'])# YOUR CODE HERE)\n",
        "model.summary()\n",
        "\n",
        "num_epochs = 50\n",
        "\n",
        "training_padded = np.array(training_sequences)\n",
        "training_labels = np.array(training_labels)\n",
        "testing_padded = np.array(test_sequences)\n",
        "testing_labels = np.array(test_labels)\n",
        "\n",
        "history = model.fit(training_padded, training_labels, epochs=num_epochs, validation_data=(testing_padded, testing_labels), verbose=2)\n",
        "\n",
        "print(\"Training Complete\")"
      ],
      "execution_count": 8,
      "outputs": [
        {
          "output_type": "stream",
          "name": "stdout",
          "text": [
            "Model: \"sequential\"\n",
            "_________________________________________________________________\n",
            " Layer (type)                Output Shape              Param #   \n",
            "=================================================================\n",
            " embedding (Embedding)       (None, 16, 100)           13847900  \n",
            "                                                                 \n",
            " dropout (Dropout)           (None, 16, 100)           0         \n",
            "                                                                 \n",
            " conv1d (Conv1D)             (None, 12, 64)            32064     \n",
            "                                                                 \n",
            " max_pooling1d (MaxPooling1D  (None, 3, 64)            0         \n",
            " )                                                               \n",
            "                                                                 \n",
            " lstm (LSTM)                 (None, 64)                33024     \n",
            "                                                                 \n",
            " dense (Dense)               (None, 1)                 65        \n",
            "                                                                 \n",
            "=================================================================\n",
            "Total params: 13,913,053\n",
            "Trainable params: 65,153\n",
            "Non-trainable params: 13,847,900\n",
            "_________________________________________________________________\n",
            "Epoch 1/50\n",
            "4500/4500 - 34s - loss: 0.5669 - accuracy: 0.6999 - val_loss: 0.5263 - val_accuracy: 0.7343 - 34s/epoch - 7ms/step\n",
            "Epoch 2/50\n",
            "4500/4500 - 19s - loss: 0.5265 - accuracy: 0.7330 - val_loss: 0.5164 - val_accuracy: 0.7441 - 19s/epoch - 4ms/step\n",
            "Epoch 3/50\n",
            "4500/4500 - 19s - loss: 0.5114 - accuracy: 0.7455 - val_loss: 0.5099 - val_accuracy: 0.7481 - 19s/epoch - 4ms/step\n",
            "Epoch 4/50\n",
            "4500/4500 - 19s - loss: 0.4997 - accuracy: 0.7515 - val_loss: 0.5020 - val_accuracy: 0.7564 - 19s/epoch - 4ms/step\n",
            "Epoch 5/50\n",
            "4500/4500 - 19s - loss: 0.4916 - accuracy: 0.7580 - val_loss: 0.5014 - val_accuracy: 0.7529 - 19s/epoch - 4ms/step\n",
            "Epoch 6/50\n",
            "4500/4500 - 19s - loss: 0.4848 - accuracy: 0.7619 - val_loss: 0.5011 - val_accuracy: 0.7560 - 19s/epoch - 4ms/step\n",
            "Epoch 7/50\n",
            "4500/4500 - 19s - loss: 0.4786 - accuracy: 0.7667 - val_loss: 0.4993 - val_accuracy: 0.7549 - 19s/epoch - 4ms/step\n",
            "Epoch 8/50\n",
            "4500/4500 - 19s - loss: 0.4741 - accuracy: 0.7697 - val_loss: 0.5126 - val_accuracy: 0.7454 - 19s/epoch - 4ms/step\n",
            "Epoch 9/50\n",
            "4500/4500 - 19s - loss: 0.4683 - accuracy: 0.7718 - val_loss: 0.5038 - val_accuracy: 0.7527 - 19s/epoch - 4ms/step\n",
            "Epoch 10/50\n",
            "4500/4500 - 19s - loss: 0.4648 - accuracy: 0.7739 - val_loss: 0.5013 - val_accuracy: 0.7572 - 19s/epoch - 4ms/step\n",
            "Epoch 11/50\n",
            "4500/4500 - 19s - loss: 0.4618 - accuracy: 0.7770 - val_loss: 0.5043 - val_accuracy: 0.7528 - 19s/epoch - 4ms/step\n",
            "Epoch 12/50\n",
            "4500/4500 - 19s - loss: 0.4598 - accuracy: 0.7774 - val_loss: 0.5015 - val_accuracy: 0.7581 - 19s/epoch - 4ms/step\n",
            "Epoch 13/50\n",
            "4500/4500 - 19s - loss: 0.4565 - accuracy: 0.7794 - val_loss: 0.5046 - val_accuracy: 0.7552 - 19s/epoch - 4ms/step\n",
            "Epoch 14/50\n",
            "4500/4500 - 19s - loss: 0.4553 - accuracy: 0.7790 - val_loss: 0.5064 - val_accuracy: 0.7574 - 19s/epoch - 4ms/step\n",
            "Epoch 15/50\n",
            "4500/4500 - 19s - loss: 0.4519 - accuracy: 0.7831 - val_loss: 0.5119 - val_accuracy: 0.7546 - 19s/epoch - 4ms/step\n",
            "Epoch 16/50\n",
            "4500/4500 - 19s - loss: 0.4505 - accuracy: 0.7821 - val_loss: 0.5051 - val_accuracy: 0.7533 - 19s/epoch - 4ms/step\n",
            "Epoch 17/50\n",
            "4500/4500 - 19s - loss: 0.4481 - accuracy: 0.7854 - val_loss: 0.5054 - val_accuracy: 0.7529 - 19s/epoch - 4ms/step\n",
            "Epoch 18/50\n",
            "4500/4500 - 19s - loss: 0.4471 - accuracy: 0.7848 - val_loss: 0.5072 - val_accuracy: 0.7530 - 19s/epoch - 4ms/step\n",
            "Epoch 19/50\n",
            "4500/4500 - 19s - loss: 0.4448 - accuracy: 0.7866 - val_loss: 0.5075 - val_accuracy: 0.7513 - 19s/epoch - 4ms/step\n",
            "Epoch 20/50\n",
            "4500/4500 - 19s - loss: 0.4438 - accuracy: 0.7870 - val_loss: 0.5088 - val_accuracy: 0.7489 - 19s/epoch - 4ms/step\n",
            "Epoch 21/50\n",
            "4500/4500 - 19s - loss: 0.4429 - accuracy: 0.7875 - val_loss: 0.5077 - val_accuracy: 0.7524 - 19s/epoch - 4ms/step\n",
            "Epoch 22/50\n",
            "4500/4500 - 19s - loss: 0.4412 - accuracy: 0.7890 - val_loss: 0.5130 - val_accuracy: 0.7511 - 19s/epoch - 4ms/step\n",
            "Epoch 23/50\n",
            "4500/4500 - 19s - loss: 0.4394 - accuracy: 0.7903 - val_loss: 0.5164 - val_accuracy: 0.7491 - 19s/epoch - 4ms/step\n",
            "Epoch 24/50\n",
            "4500/4500 - 19s - loss: 0.4394 - accuracy: 0.7890 - val_loss: 0.5228 - val_accuracy: 0.7456 - 19s/epoch - 4ms/step\n",
            "Epoch 25/50\n",
            "4500/4500 - 19s - loss: 0.4393 - accuracy: 0.7886 - val_loss: 0.5189 - val_accuracy: 0.7498 - 19s/epoch - 4ms/step\n",
            "Epoch 26/50\n",
            "4500/4500 - 19s - loss: 0.4376 - accuracy: 0.7900 - val_loss: 0.5186 - val_accuracy: 0.7477 - 19s/epoch - 4ms/step\n",
            "Epoch 27/50\n",
            "4500/4500 - 19s - loss: 0.4368 - accuracy: 0.7912 - val_loss: 0.5190 - val_accuracy: 0.7496 - 19s/epoch - 4ms/step\n",
            "Epoch 28/50\n",
            "4500/4500 - 18s - loss: 0.4365 - accuracy: 0.7918 - val_loss: 0.5161 - val_accuracy: 0.7504 - 18s/epoch - 4ms/step\n",
            "Epoch 29/50\n",
            "4500/4500 - 19s - loss: 0.4362 - accuracy: 0.7921 - val_loss: 0.5161 - val_accuracy: 0.7501 - 19s/epoch - 4ms/step\n",
            "Epoch 30/50\n",
            "4500/4500 - 18s - loss: 0.4354 - accuracy: 0.7913 - val_loss: 0.5128 - val_accuracy: 0.7493 - 18s/epoch - 4ms/step\n",
            "Epoch 31/50\n",
            "4500/4500 - 18s - loss: 0.4357 - accuracy: 0.7908 - val_loss: 0.5210 - val_accuracy: 0.7489 - 18s/epoch - 4ms/step\n",
            "Epoch 32/50\n",
            "4500/4500 - 18s - loss: 0.4343 - accuracy: 0.7922 - val_loss: 0.5198 - val_accuracy: 0.7492 - 18s/epoch - 4ms/step\n",
            "Epoch 33/50\n",
            "4500/4500 - 18s - loss: 0.4337 - accuracy: 0.7925 - val_loss: 0.5179 - val_accuracy: 0.7502 - 18s/epoch - 4ms/step\n",
            "Epoch 34/50\n",
            "4500/4500 - 18s - loss: 0.4333 - accuracy: 0.7940 - val_loss: 0.5189 - val_accuracy: 0.7496 - 18s/epoch - 4ms/step\n",
            "Epoch 35/50\n",
            "4500/4500 - 18s - loss: 0.4334 - accuracy: 0.7929 - val_loss: 0.5149 - val_accuracy: 0.7513 - 18s/epoch - 4ms/step\n",
            "Epoch 36/50\n",
            "4500/4500 - 18s - loss: 0.4322 - accuracy: 0.7936 - val_loss: 0.5197 - val_accuracy: 0.7471 - 18s/epoch - 4ms/step\n",
            "Epoch 37/50\n",
            "4500/4500 - 18s - loss: 0.4322 - accuracy: 0.7932 - val_loss: 0.5206 - val_accuracy: 0.7509 - 18s/epoch - 4ms/step\n",
            "Epoch 38/50\n",
            "4500/4500 - 18s - loss: 0.4307 - accuracy: 0.7951 - val_loss: 0.5204 - val_accuracy: 0.7479 - 18s/epoch - 4ms/step\n",
            "Epoch 39/50\n",
            "4500/4500 - 18s - loss: 0.4303 - accuracy: 0.7951 - val_loss: 0.5230 - val_accuracy: 0.7493 - 18s/epoch - 4ms/step\n",
            "Epoch 40/50\n",
            "4500/4500 - 18s - loss: 0.4301 - accuracy: 0.7950 - val_loss: 0.5213 - val_accuracy: 0.7472 - 18s/epoch - 4ms/step\n",
            "Epoch 41/50\n",
            "4500/4500 - 18s - loss: 0.4293 - accuracy: 0.7957 - val_loss: 0.5253 - val_accuracy: 0.7501 - 18s/epoch - 4ms/step\n",
            "Epoch 42/50\n",
            "4500/4500 - 19s - loss: 0.4309 - accuracy: 0.7955 - val_loss: 0.5235 - val_accuracy: 0.7469 - 19s/epoch - 4ms/step\n",
            "Epoch 43/50\n",
            "4500/4500 - 19s - loss: 0.4299 - accuracy: 0.7958 - val_loss: 0.5185 - val_accuracy: 0.7477 - 19s/epoch - 4ms/step\n",
            "Epoch 44/50\n",
            "4500/4500 - 18s - loss: 0.4297 - accuracy: 0.7953 - val_loss: 0.5230 - val_accuracy: 0.7492 - 18s/epoch - 4ms/step\n",
            "Epoch 45/50\n",
            "4500/4500 - 19s - loss: 0.4290 - accuracy: 0.7968 - val_loss: 0.5192 - val_accuracy: 0.7484 - 19s/epoch - 4ms/step\n",
            "Epoch 46/50\n",
            "4500/4500 - 19s - loss: 0.4291 - accuracy: 0.7959 - val_loss: 0.5213 - val_accuracy: 0.7492 - 19s/epoch - 4ms/step\n",
            "Epoch 47/50\n",
            "4500/4500 - 19s - loss: 0.4280 - accuracy: 0.7952 - val_loss: 0.5224 - val_accuracy: 0.7477 - 19s/epoch - 4ms/step\n",
            "Epoch 48/50\n",
            "4500/4500 - 19s - loss: 0.4283 - accuracy: 0.7963 - val_loss: 0.5197 - val_accuracy: 0.7492 - 19s/epoch - 4ms/step\n",
            "Epoch 49/50\n",
            "4500/4500 - 18s - loss: 0.4295 - accuracy: 0.7964 - val_loss: 0.5214 - val_accuracy: 0.7462 - 18s/epoch - 4ms/step\n",
            "Epoch 50/50\n",
            "4500/4500 - 19s - loss: 0.4275 - accuracy: 0.7972 - val_loss: 0.5228 - val_accuracy: 0.7482 - 19s/epoch - 4ms/step\n",
            "Training Complete\n"
          ]
        }
      ]
    },
    {
      "cell_type": "code",
      "metadata": {
        "id": "qxju4ItJKO8F",
        "outputId": "ef84e9b2-5bf6-4bd6-f2f0-0cf72d042b80",
        "colab": {
          "base_uri": "https://localhost:8080/",
          "height": 608
        }
      },
      "source": [
        "import matplotlib.image  as mpimg\n",
        "import matplotlib.pyplot as plt\n",
        "\n",
        "#-----------------------------------------------------------\n",
        "# Retrieve a list of list results on training and test data\n",
        "# sets for each training epoch\n",
        "#-----------------------------------------------------------\n",
        "acc=history.history['accuracy']\n",
        "val_acc=history.history['val_accuracy']\n",
        "loss=history.history['loss']\n",
        "val_loss=history.history['val_loss']\n",
        "\n",
        "epochs=range(len(acc)) # Get number of epochs\n",
        "\n",
        "#------------------------------------------------\n",
        "# Plot training and validation accuracy per epoch\n",
        "#------------------------------------------------\n",
        "plt.plot(epochs, acc, 'r')\n",
        "plt.plot(epochs, val_acc, 'b')\n",
        "plt.title('Training and validation accuracy')\n",
        "plt.xlabel(\"Epochs\")\n",
        "plt.ylabel(\"Accuracy\")\n",
        "plt.legend([\"Accuracy\", \"Validation Accuracy\"])\n",
        "\n",
        "plt.figure()\n",
        "\n",
        "#------------------------------------------------\n",
        "# Plot training and validation loss per epoch\n",
        "#------------------------------------------------\n",
        "plt.plot(epochs, loss, 'r')\n",
        "plt.plot(epochs, val_loss, 'b')\n",
        "plt.title('Training and validation loss')\n",
        "plt.xlabel(\"Epochs\")\n",
        "plt.ylabel(\"Loss\")\n",
        "plt.legend([\"Loss\", \"Validation Loss\"])\n",
        "\n",
        "plt.figure()\n",
        "\n",
        "\n",
        "# Expected Output\n",
        "# A chart where the validation loss does not increase sharply!"
      ],
      "execution_count": 9,
      "outputs": [
        {
          "output_type": "execute_result",
          "data": {
            "text/plain": [
              "<Figure size 432x288 with 0 Axes>"
            ]
          },
          "metadata": {},
          "execution_count": 9
        },
        {
          "output_type": "display_data",
          "data": {
            "image/png": "[encoded data removed]",
            "text/plain": [
              "<Figure size 432x288 with 1 Axes>"
            ]
          },
          "metadata": {
            "needs_background": "light"
          }
        },
        {
          "output_type": "display_data",
          "data": {
            "image/png": "[encoded data removed]",
            "text/plain": [
              "<Figure size 432x288 with 1 Axes>"
            ]
          },
          "metadata": {
            "needs_background": "light"
          }
        },
        {
          "output_type": "display_data",
          "data": {
            "text/plain": [
              "<Figure size 432x288 with 0 Axes>"
            ]
          },
          "metadata": {}
        }
      ]
    }
  ]
}