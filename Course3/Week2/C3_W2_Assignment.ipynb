{
 "cells": [
  {
   "cell_type": "code",
   "execution_count": 1,
   "metadata": {
    "colab": {
     "base_uri": "https://localhost:8080/"
    },
    "id": "gnwiOnGyW5JK",
    "outputId": "7b82c7a6-2558-4902-bb0a-37cdd7f1978a"
   },
   "outputs": [
    {
     "name": "stdout",
     "output_type": "stream",
     "text": [
      "Downloading...\n",
      "From: https://drive.google.com/uc?id=1rX10xeI3eUJmOLsc4pOPY6AnCLO8DxNj\n",
      "To: /media/ltchitts/8a6ff761-51df-41f4-b853-3a5fcd07a873/Tensorflow/ProfessionalCertTensorflow/Course_3_NLP/Week2/bbc-text.csv\n",
      "100%|██████████████████████████████████████| 5.06M/5.06M [00:00<00:00, 8.00MB/s]\n"
     ]
    }
   ],
   "source": [
    "import csv\n",
    "import tensorflow as tf\n",
    "import numpy as np\n",
    "from tensorflow.keras.preprocessing.text import Tokenizer\n",
    "from tensorflow.keras.preprocessing.sequence import pad_sequences\n",
    "\n",
    "# bbc-text.csv\n",
    "!gdown --id 1rX10xeI3eUJmOLsc4pOPY6AnCLO8DxNj"
   ]
  },
  {
   "cell_type": "code",
   "execution_count": 2,
   "metadata": {
    "id": "EYo6A4v5ZABQ"
   },
   "outputs": [],
   "source": [
    "vocab_size = 1000 # YOUR CODE HERE\n",
    "embedding_dim = 16# YOUR CODE HERE\n",
    "max_length = 120# YOUR CODE HERE\n",
    "trunc_type = \"post\" # YOUR CODE HERE\n",
    "padding_type = \"post\" # YOUR CODE HERE\n",
    "oov_tok =\"OOV\" # YOUR CODE HERE\n",
    "training_portion = .8"
   ]
  },
  {
   "cell_type": "code",
   "execution_count": 3,
   "metadata": {
    "colab": {
     "base_uri": "https://localhost:8080/"
    },
    "id": "iU1qq3_SZBx_",
    "outputId": "2472b315-4287-4895-9371-c0fcf4f3f429"
   },
   "outputs": [
    {
     "name": "stdout",
     "output_type": "stream",
     "text": [
      "153\n"
     ]
    }
   ],
   "source": [
    "sentences = []\n",
    "labels = []\n",
    "stopwords = [ \"a\", \"about\", \"above\", \"after\", \"again\", \"against\", \"all\", \"am\", \"an\", \"and\", \"any\", \"are\", \"as\", \"at\", \"be\", \"because\", \"been\", \"before\", \"being\", \"below\", \"between\", \"both\", \"but\", \"by\", \"could\", \"did\", \"do\", \"does\", \"doing\", \"down\", \"during\", \"each\", \"few\", \"for\", \"from\", \"further\", \"had\", \"has\", \"have\", \"having\", \"he\", \"he'd\", \"he'll\", \"he's\", \"her\", \"here\", \"here's\", \"hers\", \"herself\", \"him\", \"himself\", \"his\", \"how\", \"how's\", \"i\", \"i'd\", \"i'll\", \"i'm\", \"i've\", \"if\", \"in\", \"into\", \"is\", \"it\", \"it's\", \"its\", \"itself\", \"let's\", \"me\", \"more\", \"most\", \"my\", \"myself\", \"nor\", \"of\", \"on\", \"once\", \"only\", \"or\", \"other\", \"ought\", \"our\", \"ours\", \"ourselves\", \"out\", \"over\", \"own\", \"same\", \"she\", \"she'd\", \"she'll\", \"she's\", \"should\", \"so\", \"some\", \"such\", \"than\", \"that\", \"that's\", \"the\", \"their\", \"theirs\", \"them\", \"themselves\", \"then\", \"there\", \"there's\", \"these\", \"they\", \"they'd\", \"they'll\", \"they're\", \"they've\", \"this\", \"those\", \"through\", \"to\", \"too\", \"under\", \"until\", \"up\", \"very\", \"was\", \"we\", \"we'd\", \"we'll\", \"we're\", \"we've\", \"were\", \"what\", \"what's\", \"when\", \"when's\", \"where\", \"where's\", \"which\", \"while\", \"who\", \"who's\", \"whom\", \"why\", \"why's\", \"with\", \"would\", \"you\", \"you'd\", \"you'll\", \"you're\", \"you've\", \"your\", \"yours\", \"yourself\", \"yourselves\" ]\n",
    "print(len(stopwords))\n",
    "# Expected Output\n",
    "# 153"
   ]
  },
  {
   "cell_type": "code",
   "execution_count": 4,
   "metadata": {
    "colab": {
     "base_uri": "https://localhost:8080/"
    },
    "id": "eutB2xMiZD0e",
    "outputId": "740df898-1753-4aee-a550-a30cecc3fed5"
   },
   "outputs": [
    {
     "name": "stdout",
     "output_type": "stream",
     "text": [
      "2225\n",
      "2225\n",
      "tv future hands viewers home theatre systems  plasma high-definition tvs  digital video recorders moving living room  way people watch tv will radically different five years  time.  according expert panel gathered annual consumer electronics show las vegas discuss new technologies will impact one favourite pastimes. us leading trend  programmes content will delivered viewers via home networks  cable  satellite  telecoms companies  broadband service providers front rooms portable devices.  one talked-about technologies ces digital personal video recorders (dvr pvr). set-top boxes  like us s tivo uk s sky+ system  allow people record  store  play  pause forward wind tv programmes want.  essentially  technology allows much personalised tv. also built-in high-definition tv sets  big business japan us  slower take off europe lack high-definition programming. not can people forward wind adverts  can also forget abiding network channel schedules  putting together a-la-carte entertainment. us networks cable satellite companies worried means terms advertising revenues well  brand identity  viewer loyalty channels. although us leads technology moment  also concern raised europe  particularly growing uptake services like sky+.  happens today  will see nine months years  time uk   adam hume  bbc broadcast s futurologist told bbc news website. likes bbc  no issues lost advertising revenue yet. pressing issue moment commercial uk broadcasters  brand loyalty important everyone.  will talking content brands rather network brands   said tim hanlon  brand communications firm starcom mediavest.  reality broadband connections  anybody can producer content.  added:  challenge now hard promote programme much choice.   means  said stacey jolna  senior vice president tv guide tv group  way people find content want watch simplified tv viewers. means networks  us terms  channels take leaf google s book search engine future  instead scheduler help people find want watch. kind channel model might work younger ipod generation used taking control gadgets play them. might not suit everyone  panel recognised. older generations comfortable familiar schedules channel brands know getting. perhaps not want much choice put hands  mr hanlon suggested.  end  kids just diapers pushing buttons already - everything possible available   said mr hanlon.  ultimately  consumer will tell market want.   50 000 new gadgets technologies showcased ces  many enhancing tv-watching experience. high-definition tv sets everywhere many new models lcd (liquid crystal display) tvs launched dvr capability built  instead external boxes. one example launched show humax s 26-inch lcd tv 80-hour tivo dvr dvd recorder. one us s biggest satellite tv companies  directtv  even launched branded dvr show 100-hours recording capability  instant replay  search function. set can pause rewind tv 90 hours. microsoft chief bill gates announced pre-show keynote speech partnership tivo  called tivotogo  means people can play recorded programmes windows pcs mobile devices. reflect increasing trend freeing multimedia people can watch want  want.\n"
     ]
    }
   ],
   "source": [
    "with open(\"./bbc-text.csv\", 'r') as csvfile:\n",
    "    ### START CODE HERE\n",
    "    reader = csv.reader(csvfile)\n",
    "    header = next(reader)\n",
    "    for row in reader:\n",
    "        labels.append(row[0])\n",
    "        sentence = row[1]\n",
    "        for word in stopwords:\n",
    "            token = \" \" + word + \" \"\n",
    "            sentence = sentence.replace(token, \" \")\n",
    "        sentences.append(sentence)\n",
    "    ### END CODE HERE\n",
    "\n",
    "    \n",
    "print(len(labels))\n",
    "print(len(sentences))\n",
    "print(sentences[0])\n",
    "# Expected Output\n",
    "# 2225\n",
    "# 2225\n",
    "# tv future hands viewers home theatre systems  plasma high-definition tvs  digital video recorders moving living room  way people watch tv will radically different five years  time.  according expert panel gathered annual consumer electronics show las vegas discuss new technologies will impact one favourite pastimes. us leading trend  programmes content will delivered viewers via home networks  cable  satellite  telecoms companies  broadband service providers front rooms portable devices.  one talked-about technologies ces digital personal video recorders (dvr pvr). set-top boxes  like us s tivo uk s sky+ system  allow people record  store  play  pause forward wind tv programmes want.  essentially  technology allows much personalised tv. also built-in high-definition tv sets  big business japan us  slower take off europe lack high-definition programming. not can people forward wind adverts  can also forget abiding network channel schedules  putting together a-la-carte entertainment. us networks cable satellite companies worried means terms advertising revenues well  brand identity  viewer loyalty channels. although us leads technology moment  also concern raised europe  particularly growing uptake services like sky+.  happens today  will see nine months years  time uk   adam hume  bbc broadcast s futurologist told bbc news website. likes bbc  no issues lost advertising revenue yet. pressing issue moment commercial uk broadcasters  brand loyalty important everyone.  will talking content brands rather network brands   said tim hanlon  brand communications firm starcom mediavest.  reality broadband connections  anybody can producer content.  added:  challenge now hard promote programme much choice.   means  said stacey jolna  senior vice president tv guide tv group  way people find content want watch simplified tv viewers. means networks  us terms  channels take leaf google s book search engine future  instead scheduler help people find want watch. kind channel model might work younger ipod generation used taking control gadgets play them. might not suit everyone  panel recognised. older generations comfortable familiar schedules channel brands know getting. perhaps not want much choice put hands  mr hanlon suggested.  end  kids just diapers pushing buttons already - everything possible available   said mr hanlon.  ultimately  consumer will tell market want.   50 000 new gadgets technologies showcased ces  many enhancing tv-watching experience. high-definition tv sets everywhere many new models lcd (liquid crystal display) tvs launched dvr capability built  instead external boxes. one example launched show humax s 26-inch lcd tv 80-hour tivo dvr dvd recorder. one us s biggest satellite tv companies  directtv  even launched branded dvr show 100-hours recording capability  instant replay  search function. set can pause rewind tv 90 hours. microsoft chief bill gates announced pre-show keynote speech partnership tivo  called tivotogo  means people can play recorded programmes windows pcs mobile devices. reflect increasing trend freeing multimedia people can watch want  want."
   ]
  },
  {
   "cell_type": "code",
   "execution_count": 9,
   "metadata": {
    "colab": {
     "base_uri": "https://localhost:8080/"
    },
    "id": "XfdaWh06ZGe3",
    "outputId": "5d9f0044-9d33-4b27-901a-98d8114d30ad"
   },
   "outputs": [
    {
     "name": "stdout",
     "output_type": "stream",
     "text": [
      "1780\n",
      "1780\n",
      "1780\n",
      "445\n",
      "445\n"
     ]
    }
   ],
   "source": [
    "train_size = int(len(sentences) * training_portion)\n",
    "\n",
    "train_sentences = sentences[:train_size] # YOUR CODE HERE\n",
    "train_labels = labels[:train_size]  # YOUR CODE HERE\n",
    "\n",
    "validation_sentences = sentences[train_size: ]  # YOUR CODE HERE\n",
    "validation_labels = labels[train_size:]  # YOUR CODE HERE\n",
    "\n",
    "print(train_size)\n",
    "print(len(train_sentences))\n",
    "print(len(train_labels))\n",
    "print(len(validation_sentences))\n",
    "print(len(validation_labels))\n",
    "\n",
    "# Expected output (if training_portion=.8)\n",
    "# 1780\n",
    "# 1780\n",
    "# 1780\n",
    "# 445\n",
    "# 445"
   ]
  },
  {
   "cell_type": "code",
   "execution_count": 14,
   "metadata": {
    "colab": {
     "base_uri": "https://localhost:8080/"
    },
    "id": "ULzA8xhwZI22",
    "outputId": "e2dd40f5-6857-4932-98df-a33aab0a6a09"
   },
   "outputs": [
    {
     "name": "stdout",
     "output_type": "stream",
     "text": [
      "449\n",
      "120\n",
      "200\n",
      "120\n",
      "192\n",
      "120\n"
     ]
    }
   ],
   "source": [
    "tokenizer = Tokenizer(num_words = vocab_size ,oov_token=oov_tok)# YOUR CODE HERE\n",
    "tokenizer.fit_on_texts(train_sentences)# YOUR CODE HERE)\n",
    "word_index =tokenizer.word_index # YOUR CODE HERE\n",
    "\n",
    "train_sequences = tokenizer.texts_to_sequences(train_sentences)# YOUR CODE HERE\n",
    "train_padded = pad_sequences(train_sequences, maxlen = max_length , padding = padding_type, truncating = trunc_type )# YOUR CODE HERE\n",
    "\n",
    "print(len(train_sequences[0]))\n",
    "print(len(train_padded[0]))\n",
    "\n",
    "print(len(train_sequences[1]))\n",
    "print(len(train_padded[1]))\n",
    "\n",
    "print(len(train_sequences[10]))\n",
    "print(len(train_padded[10]))\n",
    "\n",
    "# Expected Ouput\n",
    "# 449\n",
    "# 120\n",
    "# 200\n",
    "# 120\n",
    "# 192\n",
    "# 120"
   ]
  },
  {
   "cell_type": "code",
   "execution_count": 15,
   "metadata": {
    "colab": {
     "base_uri": "https://localhost:8080/"
    },
    "id": "c8PeFWzPZLW_",
    "outputId": "33281e25-9654-4705-b1a6-a1e9b69c1564"
   },
   "outputs": [
    {
     "name": "stdout",
     "output_type": "stream",
     "text": [
      "445\n",
      "(445, 120)\n"
     ]
    }
   ],
   "source": [
    "validation_sequences = tokenizer.texts_to_sequences(validation_sentences)# YOUR CODE HERE\n",
    "validation_padded = pad_sequences(validation_sequences, maxlen = max_length , padding = padding_type, truncating = trunc_type )# YOUR CODE HERE\n",
    "\n",
    "\n",
    "print(len(validation_sequences))\n",
    "print(validation_padded.shape)\n",
    "\n",
    "# Expected output\n",
    "# 445\n",
    "# (445, 120)"
   ]
  },
  {
   "cell_type": "code",
   "execution_count": 17,
   "metadata": {
    "colab": {
     "base_uri": "https://localhost:8080/",
     "height": 287
    },
    "id": "XkWiQ_FKZNp2",
    "outputId": "cf984df5-c9d5-4243-8863-1751a089fc9a"
   },
   "outputs": [
    {
     "name": "stdout",
     "output_type": "stream",
     "text": [
      "[4]\n",
      "[2]\n",
      "[1]\n",
      "(1780, 1)\n",
      "[5]\n",
      "[4]\n",
      "[3]\n",
      "(445, 1)\n"
     ]
    }
   ],
   "source": [
    "label_tokenizer = Tokenizer()# YOUR CODE HERE\n",
    "label_tokenizer.fit_on_texts(labels)# YOUR CODE HERE)\n",
    "\n",
    "training_label_seq = np.array(label_tokenizer.texts_to_sequences(train_labels))# YOUR CODE HERE\n",
    "validation_label_seq = np.array(label_tokenizer.texts_to_sequences(validation_labels))# YOUR CODE HERE\n",
    "\n",
    "print(training_label_seq[0])\n",
    "print(training_label_seq[1])\n",
    "print(training_label_seq[2])\n",
    "print(training_label_seq.shape)\n",
    "\n",
    "print(validation_label_seq[0])\n",
    "print(validation_label_seq[1])\n",
    "print(validation_label_seq[2])\n",
    "print(validation_label_seq.shape)\n",
    "\n",
    "# Expected output\n",
    "# [4]\n",
    "# [2]\n",
    "# [1]\n",
    "# (1780, 1)\n",
    "# [5]\n",
    "# [4]\n",
    "# [3]\n",
    "# (445, 1)"
   ]
  },
  {
   "cell_type": "code",
   "execution_count": 18,
   "metadata": {
    "id": "HZ5um4MWZP-W"
   },
   "outputs": [
    {
     "name": "stdout",
     "output_type": "stream",
     "text": [
      "Model: \"sequential\"\n",
      "_________________________________________________________________\n",
      " Layer (type)                Output Shape              Param #   \n",
      "=================================================================\n",
      " embedding (Embedding)       (None, 120, 16)           16000     \n",
      "                                                                 \n",
      " global_average_pooling1d (G  (None, 16)               0         \n",
      " lobalAveragePooling1D)                                          \n",
      "                                                                 \n",
      " dense (Dense)               (None, 24)                408       \n",
      "                                                                 \n",
      " dense_1 (Dense)             (None, 6)                 150       \n",
      "                                                                 \n",
      "=================================================================\n",
      "Total params: 16,558\n",
      "Trainable params: 16,558\n",
      "Non-trainable params: 0\n",
      "_________________________________________________________________\n"
     ]
    }
   ],
   "source": [
    "model = tf.keras.Sequential([\n",
    "# YOUR CODE HERE\n",
    "    tf.keras.layers.Embedding(vocab_size, embedding_dim, input_length=max_length),\n",
    "    tf.keras.layers.GlobalAveragePooling1D(),\n",
    "    tf.keras.layers.Dense(24, activation='relu'),\n",
    "    tf.keras.layers.Dense(6, activation='softmax')\n",
    "])\n",
    "model.compile(loss='sparse_categorical_crossentropy',optimizer='adam',metrics=['accuracy'])\n",
    "model.summary()\n",
    "\n",
    "# Expected Output\n",
    "# Layer (type)                 Output Shape              Param #   \n",
    "# =================================================================\n",
    "# embedding (Embedding)        (None, 120, 16)           16000     \n",
    "# _________________________________________________________________\n",
    "# global_average_pooling1d (Gl (None, 16)                0         \n",
    "# _________________________________________________________________\n",
    "# dense (Dense)                (None, 24)                408       \n",
    "# _________________________________________________________________\n",
    "# dense_1 (Dense)              (None, 6)                 150       \n",
    "# =================================================================\n",
    "# Total params: 16,558\n",
    "# Trainable params: 16,558\n",
    "# Non-trainable params: 0"
   ]
  },
  {
   "cell_type": "code",
   "execution_count": 19,
   "metadata": {
    "id": "XsfdxySKZSXu"
   },
   "outputs": [
    {
     "name": "stdout",
     "output_type": "stream",
     "text": [
      "Epoch 1/30\n",
      "56/56 - 0s - loss: 1.7597 - accuracy: 0.4079 - val_loss: 1.7136 - val_accuracy: 0.3888 - 467ms/epoch - 8ms/step\n",
      "Epoch 2/30\n",
      "56/56 - 0s - loss: 1.6599 - accuracy: 0.4298 - val_loss: 1.5995 - val_accuracy: 0.5326 - 64ms/epoch - 1ms/step\n",
      "Epoch 3/30\n",
      "56/56 - 0s - loss: 1.5391 - accuracy: 0.5416 - val_loss: 1.4750 - val_accuracy: 0.5663 - 65ms/epoch - 1ms/step\n",
      "Epoch 4/30\n",
      "56/56 - 0s - loss: 1.3920 - accuracy: 0.6275 - val_loss: 1.3124 - val_accuracy: 0.6989 - 65ms/epoch - 1ms/step\n",
      "Epoch 5/30\n",
      "56/56 - 0s - loss: 1.1968 - accuracy: 0.7483 - val_loss: 1.1118 - val_accuracy: 0.8449 - 72ms/epoch - 1ms/step\n",
      "Epoch 6/30\n",
      "56/56 - 0s - loss: 0.9736 - accuracy: 0.8685 - val_loss: 0.9000 - val_accuracy: 0.8719 - 73ms/epoch - 1ms/step\n",
      "Epoch 7/30\n",
      "56/56 - 0s - loss: 0.7680 - accuracy: 0.9067 - val_loss: 0.7297 - val_accuracy: 0.9011 - 69ms/epoch - 1ms/step\n",
      "Epoch 8/30\n",
      "56/56 - 0s - loss: 0.6026 - accuracy: 0.9298 - val_loss: 0.5996 - val_accuracy: 0.9101 - 70ms/epoch - 1ms/step\n",
      "Epoch 9/30\n",
      "56/56 - 0s - loss: 0.4760 - accuracy: 0.9416 - val_loss: 0.4982 - val_accuracy: 0.9011 - 69ms/epoch - 1ms/step\n",
      "Epoch 10/30\n",
      "56/56 - 0s - loss: 0.3833 - accuracy: 0.9455 - val_loss: 0.4270 - val_accuracy: 0.9236 - 69ms/epoch - 1ms/step\n",
      "Epoch 11/30\n",
      "56/56 - 0s - loss: 0.3146 - accuracy: 0.9534 - val_loss: 0.3741 - val_accuracy: 0.9169 - 69ms/epoch - 1ms/step\n",
      "Epoch 12/30\n",
      "56/56 - 0s - loss: 0.2599 - accuracy: 0.9624 - val_loss: 0.3401 - val_accuracy: 0.9236 - 67ms/epoch - 1ms/step\n",
      "Epoch 13/30\n",
      "56/56 - 0s - loss: 0.2199 - accuracy: 0.9663 - val_loss: 0.3104 - val_accuracy: 0.9213 - 69ms/epoch - 1ms/step\n",
      "Epoch 14/30\n",
      "56/56 - 0s - loss: 0.1895 - accuracy: 0.9719 - val_loss: 0.2907 - val_accuracy: 0.9371 - 71ms/epoch - 1ms/step\n",
      "Epoch 15/30\n",
      "56/56 - 0s - loss: 0.1654 - accuracy: 0.9758 - val_loss: 0.2768 - val_accuracy: 0.9236 - 69ms/epoch - 1ms/step\n",
      "Epoch 16/30\n",
      "56/56 - 0s - loss: 0.1458 - accuracy: 0.9758 - val_loss: 0.2633 - val_accuracy: 0.9326 - 71ms/epoch - 1ms/step\n",
      "Epoch 17/30\n",
      "56/56 - 0s - loss: 0.1287 - accuracy: 0.9820 - val_loss: 0.2555 - val_accuracy: 0.9416 - 68ms/epoch - 1ms/step\n",
      "Epoch 18/30\n",
      "56/56 - 0s - loss: 0.1145 - accuracy: 0.9831 - val_loss: 0.2453 - val_accuracy: 0.9303 - 70ms/epoch - 1ms/step\n",
      "Epoch 19/30\n",
      "56/56 - 0s - loss: 0.1028 - accuracy: 0.9860 - val_loss: 0.2431 - val_accuracy: 0.9258 - 69ms/epoch - 1ms/step\n",
      "Epoch 20/30\n",
      "56/56 - 0s - loss: 0.0921 - accuracy: 0.9893 - val_loss: 0.2343 - val_accuracy: 0.9326 - 69ms/epoch - 1ms/step\n",
      "Epoch 21/30\n",
      "56/56 - 0s - loss: 0.0825 - accuracy: 0.9893 - val_loss: 0.2338 - val_accuracy: 0.9348 - 67ms/epoch - 1ms/step\n",
      "Epoch 22/30\n",
      "56/56 - 0s - loss: 0.0742 - accuracy: 0.9910 - val_loss: 0.2317 - val_accuracy: 0.9326 - 63ms/epoch - 1ms/step\n",
      "Epoch 23/30\n",
      "56/56 - 0s - loss: 0.0672 - accuracy: 0.9927 - val_loss: 0.2292 - val_accuracy: 0.9236 - 66ms/epoch - 1ms/step\n",
      "Epoch 24/30\n",
      "56/56 - 0s - loss: 0.0604 - accuracy: 0.9933 - val_loss: 0.2273 - val_accuracy: 0.9348 - 66ms/epoch - 1ms/step\n",
      "Epoch 25/30\n",
      "56/56 - 0s - loss: 0.0549 - accuracy: 0.9944 - val_loss: 0.2239 - val_accuracy: 0.9348 - 66ms/epoch - 1ms/step\n",
      "Epoch 26/30\n",
      "56/56 - 0s - loss: 0.0496 - accuracy: 0.9955 - val_loss: 0.2204 - val_accuracy: 0.9303 - 65ms/epoch - 1ms/step\n",
      "Epoch 27/30\n",
      "56/56 - 0s - loss: 0.0446 - accuracy: 0.9966 - val_loss: 0.2240 - val_accuracy: 0.9281 - 66ms/epoch - 1ms/step\n",
      "Epoch 28/30\n",
      "56/56 - 0s - loss: 0.0410 - accuracy: 0.9978 - val_loss: 0.2219 - val_accuracy: 0.9303 - 66ms/epoch - 1ms/step\n",
      "Epoch 29/30\n",
      "56/56 - 0s - loss: 0.0372 - accuracy: 0.9989 - val_loss: 0.2224 - val_accuracy: 0.9281 - 66ms/epoch - 1ms/step\n",
      "Epoch 30/30\n",
      "56/56 - 0s - loss: 0.0340 - accuracy: 0.9989 - val_loss: 0.2232 - val_accuracy: 0.9281 - 65ms/epoch - 1ms/step\n"
     ]
    }
   ],
   "source": [
    "num_epochs = 30\n",
    "history = model.fit(train_padded, training_label_seq, epochs=num_epochs, validation_data=(validation_padded, validation_label_seq), verbose=2)# YOUR CODE HERE)"
   ]
  },
  {
   "cell_type": "code",
   "execution_count": 21,
   "metadata": {
    "id": "dQ0BX2apXS9u"
   },
   "outputs": [
    {
     "data": {
      "image/png": "[encoded data removed]",
      "text/plain": [
       "<Figure size 432x288 with 1 Axes>"
      ]
     },
     "metadata": {
      "needs_background": "light"
     },
     "output_type": "display_data"
    },
    {
     "data": {
      "image/png": "[encoded data removed]",
      "text/plain": [
       "<Figure size 432x288 with 1 Axes>"
      ]
     },
     "metadata": {
      "needs_background": "light"
     },
     "output_type": "display_data"
    }
   ],
   "source": [
    "import matplotlib.pyplot as plt\n",
    "\n",
    "\n",
    "def plot_graphs(history, string):\n",
    "  plt.plot(history.history[string])\n",
    "  plt.plot(history.history['val_'+string])\n",
    "  plt.xlabel(\"Epochs\")\n",
    "  plt.ylabel(string)\n",
    "  plt.legend([string, 'val_'+string])\n",
    "  plt.show()\n",
    "  \n",
    "plot_graphs(history, \"accuracy\")\n",
    "plot_graphs(history, \"loss\")"
   ]
  },
  {
   "cell_type": "code",
   "execution_count": 22,
   "metadata": {
    "id": "w7Xc-uWxXhML"
   },
   "outputs": [],
   "source": [
    "reverse_word_index = dict([(value, key) for (key, value) in word_index.items()])\n",
    "\n",
    "def decode_sentence(text):\n",
    "    return ' '.join([reverse_word_index.get(i, '?') for i in text])\n"
   ]
  },
  {
   "cell_type": "code",
   "execution_count": 23,
   "metadata": {
    "id": "OhnFA_TDXrih"
   },
   "outputs": [
    {
     "name": "stdout",
     "output_type": "stream",
     "text": [
      "(1000, 16)\n"
     ]
    }
   ],
   "source": [
    "e = model.layers[0]\n",
    "weights = e.get_weights()[0]\n",
    "print(weights.shape) # shape: (vocab_size, embedding_dim)\n",
    "\n",
    "# Expected output\n",
    "# (1000, 16)"
   ]
  },
  {
   "cell_type": "code",
   "execution_count": 25,
   "metadata": {
    "id": "_POzcWWAXudL"
   },
   "outputs": [],
   "source": [
    "import io\n",
    "\n",
    "out_v = io.open('vecs_bbc.tsv', 'w', encoding='utf-8')\n",
    "out_m = io.open('meta_bbc.tsv', 'w', encoding='utf-8')\n",
    "for word_num in range(1, vocab_size):\n",
    "  word = reverse_word_index[word_num]\n",
    "  embeddings = weights[word_num]\n",
    "  out_m.write(word + \"\\n\")\n",
    "  out_v.write('\\t'.join([str(x) for x in embeddings]) + \"\\n\")\n",
    "out_v.close()\n",
    "out_m.close()"
   ]
  },
  {
   "cell_type": "code",
   "execution_count": 26,
   "metadata": {
    "id": "VmqpQMZ_XyOa"
   },
   "outputs": [],
   "source": [
    "try:\n",
    "  from google.colab import files\n",
    "except ImportError:\n",
    "  pass\n",
    "else:\n",
    "  files.download('vecs_bbc.tsv')\n",
    "  files.download('meta_bbc.tsv')"
   ]
  },
  {
   "cell_type": "code",
   "execution_count": null,
   "metadata": {},
   "outputs": [],
   "source": []
  }
 ],
 "metadata": {
  "colab": {
   "collapsed_sections": [],
   "name": "C3_W2_Assignment.ipynb",
   "provenance": [],
   "toc_visible": true
  },
  "kernelspec": {
   "display_name": "Python 3",
   "language": "python",
   "name": "python3"
  },
  "language_info": {
   "codemirror_mode": {
    "name": "ipython",
    "version": 3
   },
   "file_extension": ".py",
   "mimetype": "text/x-python",
   "name": "python",
   "nbconvert_exporter": "python",
   "pygments_lexer": "ipython3",
   "version": "3.8.10"
  }
 },
 "nbformat": 4,
 "nbformat_minor": 1
}
