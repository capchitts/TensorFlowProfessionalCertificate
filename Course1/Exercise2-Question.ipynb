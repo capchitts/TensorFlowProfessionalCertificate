{
 "cells": [
  {
   "cell_type": "markdown",
   "metadata": {
    "colab_type": "text",
    "id": "tOoyQ70H00_s"
   },
   "source": [
    "## Exercise 2\n",
    "In the course you learned how to do classificaiton using Fashion MNIST, a data set containing items of clothing. There's another, similar dataset called MNIST which has items of handwriting -- the digits 0 through 9.\n",
    "\n",
    "Write an MNIST classifier that trains to 99% accuracy or above, and does it without a fixed number of epochs -- i.e. you should stop training once you reach that level of accuracy.\n",
    "\n",
    "Some notes:\n",
    "1. It should succeed in less than 10 epochs, so it is okay to change epochs= to 10, but nothing larger\n",
    "2. When it reaches 99% or greater it should print out the string \"Reached 99% accuracy so cancelling training!\"\n",
    "3. If you add any additional variables, make sure you use the same names as the ones used in the class\n",
    "\n",
    "I've started the code for you below -- how would you finish it? "
   ]
  },
  {
   "cell_type": "code",
   "execution_count": 1,
   "metadata": {},
   "outputs": [],
   "source": [
    "import tensorflow as tf\n",
    "from tensorflow import keras\n",
    "\n",
    "from os import path, getcwd, chdir\n",
    "\n",
    "# DO NOT CHANGE THE LINE BELOW. If you are developing in a local\n",
    "# environment, then grab mnist.npz from the Coursera Jupyter Notebook\n",
    "# and place it inside a local folder and edit the path to that location\n",
    "path = f\"{getcwd()}/../tmp2/mnist.npz\""
   ]
  },
  {
   "cell_type": "code",
   "execution_count": 40,
   "metadata": {
    "colab": {},
    "colab_type": "code",
    "id": "9rvXQGAA0ssC"
   },
   "outputs": [],
   "source": [
    "# GRADED FUNCTION: train_mnist\n",
    "def train_mnist():\n",
    "    # Please write your code only where you are indicated.\n",
    "    # please do not remove # model fitting inline comments.\n",
    "\n",
    "    # YOUR CODE SHOULD START HERE\n",
    "    class CustomCallback(keras.callbacks.Callback):\n",
    "    \n",
    "        def on_epoch_end(self, epoch, logs=None):\n",
    "            if logs['acc'] >= .99:\n",
    "                print(\"Reached 99% accuracy so cancelling training!\")\n",
    "                self.model.training = True\n",
    "    # YOUR CODE SHOULD END HERE\n",
    "\n",
    "    mnist = tf.keras.datasets.mnist\n",
    "\n",
    "    (x_train, y_train),(x_test, y_test) = mnist.load_data(path=path)\n",
    "    # YOUR CODE SHOULD START HERE\n",
    "    img_rows = 28\n",
    "    img_cols = 28\n",
    "    \n",
    "    x_train = x_train.reshape(x_train.shape[0], img_rows, img_cols, 1)\n",
    "    x_test = x_test.reshape(x_test.shape[0], img_rows, img_cols, 1)\n",
    "    #(height, width , channels)\n",
    "    input_shape = (img_rows, img_cols, 1)\n",
    "    x_train = x_train / 255.\n",
    "    x_test = x_test / 255.\n",
    "    # YOUR CODE SHOULD END HERE\n",
    "    \n",
    "    model = tf.keras.models.Sequential([\n",
    "        # YOUR CODE SHOULD START HERE\n",
    "        keras.layers.Conv2D(32, (3, 3), activation='relu',kernel_initializer='he_uniform', input_shape = input_shape),\n",
    "        keras.layers.Flatten(),\n",
    "        keras.layers.Dense(100, activation='relu',kernel_initializer='he_uniform'),\n",
    "        keras.layers.Dense(10,activation='softmax')\n",
    "        # YOUR CODE SHOULD END HERE\n",
    "    ])\n",
    "    \n",
    "    # https://stackoverflow.com/questions/58565394/what-is-the-difference-between-sparse-categorical-crossentropy-and-categorical-c\n",
    "    model.compile(optimizer='sgd',\n",
    "                  loss='sparse_categorical_crossentropy',\n",
    "                  metrics=['accuracy'])\n",
    "    \n",
    "    # model fitting\n",
    "    history = model.fit(# YOUR CODE SHOULD START HERE\n",
    "        x_train, y_train,\n",
    "        epochs = 10,\n",
    "        callbacks = [CustomCallback()]\n",
    "        # YOUR CODE SHOULD END HERE\n",
    "    )\n",
    "    # model fitting\n",
    "    return history.epoch, history.history['acc'][-1]"
   ]
  },
  {
   "cell_type": "code",
   "execution_count": 41,
   "metadata": {
    "colab": {},
    "colab_type": "code",
    "id": "9rvXQGAA0ssC"
   },
   "outputs": [
    {
     "name": "stdout",
     "output_type": "stream",
     "text": [
      "Epoch 1/10\n",
      "60000/60000 [==============================] - 13s 216us/sample - loss: 0.2739 - acc: 0.9216\n",
      "Epoch 2/10\n",
      "60000/60000 [==============================] - 13s 212us/sample - loss: 0.1351 - acc: 0.9613\n",
      "Epoch 3/10\n",
      "60000/60000 [==============================] - 12s 198us/sample - loss: 0.0974 - acc: 0.9723\n",
      "Epoch 4/10\n",
      "60000/60000 [==============================] - 12s 200us/sample - loss: 0.0754 - acc: 0.9780\n",
      "Epoch 5/10\n",
      "60000/60000 [==============================] - 12s 204us/sample - loss: 0.0628 - acc: 0.9821\n",
      "Epoch 6/10\n",
      "60000/60000 [==============================] - 12s 202us/sample - loss: 0.0517 - acc: 0.9852\n",
      "Epoch 7/10\n",
      "60000/60000 [==============================] - 12s 203us/sample - loss: 0.0445 - acc: 0.9877 - loss: 0.0442 - acc: \n",
      "Epoch 8/10\n",
      "60000/60000 [==============================] - 12s 205us/sample - loss: 0.0386 - acc: 0.9894\n",
      "Epoch 9/10\n",
      "59616/60000 [============================>.] - ETA: 0s - loss: 0.0329 - acc: 0.9911Reached 99% accuracy so cancelling training!\n",
      "60000/60000 [==============================] - 12s 192us/sample - loss: 0.0329 - acc: 0.9911\n",
      "Epoch 10/10\n",
      "59840/60000 [============================>.] - ETA: 0s - loss: 0.0289 - acc: 0.9923Reached 99% accuracy so cancelling training!\n",
      "60000/60000 [==============================] - 11s 190us/sample - loss: 0.0289 - acc: 0.9922\n"
     ]
    },
    {
     "data": {
      "text/plain": [
       "([0, 1, 2, 3, 4, 5, 6, 7, 8, 9], 0.99223334)"
      ]
     },
     "execution_count": 41,
     "metadata": {},
     "output_type": "execute_result"
    }
   ],
   "source": [
    "train_mnist()"
   ]
  },
  {
   "cell_type": "code",
   "execution_count": 42,
   "metadata": {},
   "outputs": [],
   "source": [
    "# Now click the 'Submit Assignment' button above.\n",
    "# Once that is complete, please run the following two cells to save your work and close the notebook"
   ]
  },
  {
   "cell_type": "code",
   "execution_count": null,
   "metadata": {},
   "outputs": [],
   "source": [
    "%%javascript\n",
    "<!-- Save the notebook -->\n",
    "IPython.notebook.save_checkpoint();"
   ]
  },
  {
   "cell_type": "code",
   "execution_count": null,
   "metadata": {},
   "outputs": [],
   "source": [
    "%%javascript\n",
    "IPython.notebook.session.delete();\n",
    "window.onbeforeunload = null\n",
    "setTimeout(function() { window.close(); }, 1000);"
   ]
  }
 ],
 "metadata": {
  "coursera": {
   "course_slug": "introduction-tensorflow",
   "graded_item_id": "d6dew",
   "launcher_item_id": "FExZ4"
  },
  "kernelspec": {
   "display_name": "Python 3",
   "language": "python",
   "name": "python3"
  },
  "language_info": {
   "codemirror_mode": {
    "name": "ipython",
    "version": 3
   },
   "file_extension": ".py",
   "mimetype": "text/x-python",
   "name": "python",
   "nbconvert_exporter": "python",
   "pygments_lexer": "ipython3",
   "version": "3.6.8"
  }
 },
 "nbformat": 4,
 "nbformat_minor": 1
}
